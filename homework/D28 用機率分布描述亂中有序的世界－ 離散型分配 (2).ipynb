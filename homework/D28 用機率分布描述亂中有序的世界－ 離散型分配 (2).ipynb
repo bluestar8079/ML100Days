{
 "cells": [
  {
   "cell_type": "markdown",
   "metadata": {},
   "source": [
    "## 作業:\n",
    "今天學到五種分配，包含，   \n",
    "離散均勻分配( Discrete Uniform Distribution )   \n",
    "伯努利分配( Bernoulli Distribution )   \n",
    "二項分配(Binomial Distribution)  \n",
    "負二項分配(Negative Binomial Distribution)  \n",
    "超幾何分配(Hypergeometric Distribution)   \n",
    "今天我們透過作業中的問題，回想今天的內容吧!  "
   ]
  },
  {
   "cell_type": "markdown",
   "metadata": {},
   "source": [
    "### Q1: 大樂透的頭獎，你必須從49個挑選出 6 個號碼，\n",
    "### 且這六個號碼與頭獎的六個號碼一致，頭獎的機率是屬於哪一種分配?"
   ]
  },
  {
   "cell_type": "code",
   "execution_count": null,
   "metadata": {
    "collapsed": true
   },
   "outputs": [],
   "source": [
    "#Ans: 屬於超幾何分配"
   ]
  },
  {
   "cell_type": "markdown",
   "metadata": {},
   "source": [
    "### Q2: 運用範例的 python 程式碼，計算大樂透的中頭獎機率?"
   ]
  },
  {
   "cell_type": "code",
   "execution_count": 12,
   "metadata": {},
   "outputs": [
    {
     "name": "stdout",
     "output_type": "stream",
     "text": [
      "7.151123842018523e-08\n"
     ]
    }
   ],
   "source": [
    "import matplotlib.pyplot as plt\n",
    "import numpy as np\n",
    "import pandas as pd\n",
    "from scipy import stats\n",
    "import math\n",
    "import statistics\n",
    "#超幾何分配(Hypergeometric Distribution)描述了\n",
    "#由有限個物件中抽出n個物件，成功抽出指定種類的物件的個數（不歸還 （without replacement）)\n",
    "#若隨機變量X 服從參數，則記為  H(n,K,N)，\n",
    "#𝑁 : 共有幾個物件, 𝑁 =0,1,…\n",
    "#𝐾 : 𝑁 個物件中，有 𝐾 個是你關心的物件類型個數, 𝐾 =0,1,2,…, 𝑁\n",
    "#𝑛 : K個物件，要抽出 𝑛 個物件, 𝑛 =0,1,…, 𝑁\n",
    "#大樂透的頭獎，你必須從49個挑選出 6 個號碼，且這六個號碼與頭獎的六個號碼一致\n",
    "# 1.定義超幾何分配的基本資訊\n",
    "N=49\n",
    "K=6\n",
    "n=6\n",
    "\n",
    "# 2.計算機率質量函數 (probability mass function)\n",
    "# P(X=x) --> 是機率\n",
    "probs = stats.hypergeom.pmf(6, N,K,n)\n",
    "print(probs)\n"
   ]
  },
  {
   "cell_type": "markdown",
   "metadata": {},
   "source": [
    "### Q3: 你覺得電腦簽注的中獎機率，和人腦簽注相比，哪一個機率高?"
   ]
  },
  {
   "cell_type": "code",
   "execution_count": null,
   "metadata": {
    "collapsed": true
   },
   "outputs": [],
   "source": [
    "#Ans:一樣高"
   ]
  }
 ],
 "metadata": {
  "colab": {
   "name": "Day33.YOLO 細節理解 - 網路輸出的後處理_HW.ipynb",
   "provenance": []
  },
  "kernelspec": {
   "display_name": "Python 3",
   "language": "python",
   "name": "python3"
  },
  "language_info": {
   "codemirror_mode": {
    "name": "ipython",
    "version": 3
   },
   "file_extension": ".py",
   "mimetype": "text/x-python",
   "name": "python",
   "nbconvert_exporter": "python",
   "pygments_lexer": "ipython3",
   "version": "3.8.5"
  }
 },
 "nbformat": 4,
 "nbformat_minor": 1
}
