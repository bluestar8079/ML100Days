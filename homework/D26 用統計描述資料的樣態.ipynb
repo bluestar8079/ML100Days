{
 "cells": [
  {
   "cell_type": "markdown",
   "metadata": {},
   "source": [
    "## 作業:\n",
    "今天學到不同統計量之間特性，  \n",
    "試著分析男生女生身高資料，  \n",
    "試著回答下面的問題:  \n",
    "Q1:試著用今天所教的內容，如何描述這兩組資料的樣態?    \n",
    "Q2: 請問男生和女生在平均身高上誰比較高?   \n",
    "Q3:請問第二題的答案和日常生活中觀察的一致嗎? 如果不一致，你覺得原因可能為何?    \n",
    "上述問題透過  python 語法進行運算，\n",
    "並將上述答案填寫在 (google 表單)[https://forms.gle/EDdU2Zfq8zLvDea18]\n",
    "![](作業資料圖檔.PNG)"
   ]
  },
  {
   "cell_type": "code",
   "execution_count": 2,
   "metadata": {
    "colab": {
     "base_uri": "https://localhost:8080/",
     "height": 34
    },
    "colab_type": "code",
    "executionInfo": {
     "elapsed": 1558,
     "status": "ok",
     "timestamp": 1578021044012,
     "user": {
      "displayName": "Mora chen",
      "photoUrl": "https://lh3.googleusercontent.com/a-/AAuE7mB40f7sDArbZ5_DYq02nNcnLD0Ryaf7AhsASSQeLQ=s64",
      "userId": "03171203089166907199"
     },
     "user_tz": -480
    },
    "id": "yz28_IgkYdBW",
    "outputId": "a12f486c-18b3-4fb5-d06c-f162aebd9444"
   },
   "outputs": [],
   "source": [
    "# library\n",
    "import matplotlib.pyplot as plt\n",
    "import numpy as np\n",
    "import pandas as pd\n",
    "from scipy import stats\n",
    "import math\n",
    "import statistics\n",
    "import seaborn as sns"
   ]
  },
  {
   "cell_type": "code",
   "execution_count": 3,
   "metadata": {},
   "outputs": [],
   "source": [
    "## 輸入資料\n",
    "boys=[164, 176, 169, 169, 165, 175, 159, 151, 144, 160, 183, 165, 156, 170,\n",
    " 164, 173, 165, 163, 177, 171]\n",
    "girls=[169, 183, 170, 168, 182, 170, 173, 185, 151, 156, 162, 169, 162, 181,\n",
    " 159, 154, 167, 175, 170, 160]"
   ]
  },
  {
   "cell_type": "code",
   "execution_count": 13,
   "metadata": {},
   "outputs": [
    {
     "name": "stdout",
     "output_type": "stream",
     "text": [
      "男孩身高變異數= 84.89210526315789\n",
      "女孩身高變異數= 95.37894736842104\n"
     ]
    },
    {
     "data": {
      "image/png": "[encoded data removed]",
      "text/plain": [
       "<Figure size 432x288 with 1 Axes>"
      ]
     },
     "metadata": {
      "needs_background": "light"
     },
     "output_type": "display_data"
    },
    {
     "data": {
      "image/png": "[encoded data removed]",
      "text/plain": [
       "<Figure size 432x288 with 1 Axes>"
      ]
     },
     "metadata": {
      "needs_background": "light"
     },
     "output_type": "display_data"
    }
   ],
   "source": [
    "#Q1:試著用今天所教的內容，如何描述這兩組資料的樣態?\n",
    "#暗示:  分別計算男生和女生的統計量\n",
    "print(\"男孩身高變異數=\",np.var(boys,ddof=1))\n",
    "print(\"女孩身高變異數=\",np.var(girls,ddof=1))\n",
    "plt.hist(boys,alpha=.4,bins=40)\n",
    "plt.title('boy,skewness={0},kurtosis={1}'.format(round(stats.skew(boys),2),round(stats.kurtosis(boys),2)))\n",
    "plt.axvline(x=mean_boy)\n",
    "plt.show()\n",
    "plt.hist(girls,alpha=.4,bins=40)\n",
    "plt.title('boy,skewness={0},kurtosis={1}'.format(round(stats.skew(girls),2),round(stats.kurtosis(girls),2)))\n",
    "mean_girls=np.mean(girls)\n",
    "plt.axvline(x=mean_girls)\n",
    "plt.show()\n",
    "#Ans: 根據圖表以及計算出的變異數來看，男生的統計量的峰值(kurtosis)比較接近常態分布(kurtosis=0),\n",
    "#反觀女生身高的峰值則較偏離常態分布屬於低闊峰(kurtosis<0)，且計算出來的變異數也是女生比較大，\n",
    "#另外從偏值(skewness)來看女生身高較偏高極值分布"
   ]
  },
  {
   "cell_type": "code",
   "execution_count": 7,
   "metadata": {},
   "outputs": [
    {
     "name": "stdout",
     "output_type": "stream",
     "text": [
      "男孩身高平均= 165.95\n",
      "女孩身高平均= 168.3\n"
     ]
    }
   ],
   "source": [
    "#Q2: 請問男生和女生在平均身高上誰比較高? \n",
    "mean_boy=np.mean(boys)\n",
    "print(\"男孩身高平均=\",mean_boy)\n",
    "mean_girl=np.mean(girls)\n",
    "print(\"女孩身高平均=\",mean_girl)\n",
    "#Ans:女孩平均身高比較高"
   ]
  },
  {
   "cell_type": "code",
   "execution_count": 5,
   "metadata": {},
   "outputs": [
    {
     "data": {
      "text/plain": [
       "'\\n你的答案\\n'"
      ]
     },
     "execution_count": 5,
     "metadata": {},
     "output_type": "execute_result"
    }
   ],
   "source": [
    "#Q3:請問第二題的答案和日常生活中觀察的一致嗎? 如果不一致，你覺得原因可能為何? \n",
    "#Ans:不一致,認為隨機抽取的樣本的值偏差太大，加上取得樣本數過低，大部份取到了高比例的離群值"
   ]
  }
 ],
 "metadata": {
  "colab": {
   "name": "Day33.YOLO 細節理解 - 網路輸出的後處理_HW.ipynb",
   "provenance": []
  },
  "kernelspec": {
   "display_name": "Python 3",
   "language": "python",
   "name": "python3"
  },
  "language_info": {
   "codemirror_mode": {
    "name": "ipython",
    "version": 3
   },
   "file_extension": ".py",
   "mimetype": "text/x-python",
   "name": "python",
   "nbconvert_exporter": "python",
   "pygments_lexer": "ipython3",
   "version": "3.8.5"
  }
 },
 "nbformat": 4,
 "nbformat_minor": 1
}
